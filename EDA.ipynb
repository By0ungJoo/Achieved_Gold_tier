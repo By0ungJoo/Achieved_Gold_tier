{
 "cells": [
  {
   "cell_type": "code",
   "execution_count": 1,
   "id": "70f94b73",
   "metadata": {},
   "outputs": [],
   "source": [
    "import pandas as pd\n",
    "import numpy as np\n",
    "import re\n",
    "from tqdm import tqdm\n",
    "from datetime import datetime\n",
    "import time\n",
    "import random\n",
    "from tqdm import tqdm\n",
    "import datetime\n"
   ]
  },
  {
   "cell_type": "code",
   "execution_count": 2,
   "id": "fcb2a9b2",
   "metadata": {},
   "outputs": [],
   "source": [
    "df= pd.read_csv('data_211109.csv')"
   ]
  },
  {
   "cell_type": "code",
   "execution_count": 5,
   "id": "afb00f9f",
   "metadata": {},
   "outputs": [
    {
     "name": "stdout",
     "output_type": "stream",
     "text": [
      "<class 'pandas.core.frame.DataFrame'>\n",
      "RangeIndex: 792 entries, 0 to 791\n",
      "Data columns (total 11 columns):\n",
      " #   Column       Non-Null Count  Dtype         \n",
      "---  ------       --------------  -----         \n",
      " 0   game_num     792 non-null    int64         \n",
      " 1   play_date    792 non-null    datetime64[ns]\n",
      " 2   game_type    792 non-null    object        \n",
      " 3   result       792 non-null    object        \n",
      " 4   game_length  792 non-null    datetime64[ns]\n",
      " 5   champ_name   792 non-null    object        \n",
      " 6   spell_d      792 non-null    object        \n",
      " 7   spell_f      792 non-null    object        \n",
      " 8   level        792 non-null    int64         \n",
      " 9   creep_score  792 non-null    int64         \n",
      " 10  cs_1m        792 non-null    float64       \n",
      "dtypes: datetime64[ns](2), float64(1), int64(3), object(5)\n",
      "memory usage: 68.2+ KB\n"
     ]
    }
   ],
   "source": [
    "df.info()"
   ]
  },
  {
   "cell_type": "code",
   "execution_count": 4,
   "id": "710c0f77",
   "metadata": {},
   "outputs": [],
   "source": [
    "df['play_date'] =  pd.to_datetime(df['play_date'])\n",
    "df['game_length'] =  pd.to_datetime(df['game_length'])"
   ]
  },
  {
   "cell_type": "code",
   "execution_count": null,
   "id": "2d8e42ca",
   "metadata": {},
   "outputs": [],
   "source": []
  },
  {
   "cell_type": "code",
   "execution_count": null,
   "id": "16347b90",
   "metadata": {},
   "outputs": [],
   "source": []
  },
  {
   "cell_type": "code",
   "execution_count": null,
   "id": "f7a1b8f2",
   "metadata": {},
   "outputs": [],
   "source": []
  },
  {
   "cell_type": "code",
   "execution_count": null,
   "id": "b692fb52",
   "metadata": {},
   "outputs": [],
   "source": []
  },
  {
   "cell_type": "code",
   "execution_count": null,
   "id": "32a7cc97",
   "metadata": {},
   "outputs": [],
   "source": []
  },
  {
   "cell_type": "code",
   "execution_count": null,
   "id": "a864f0f9",
   "metadata": {},
   "outputs": [],
   "source": []
  },
  {
   "cell_type": "code",
   "execution_count": null,
   "id": "d334f203",
   "metadata": {},
   "outputs": [],
   "source": []
  }
 ],
 "metadata": {
  "kernelspec": {
   "display_name": "Python 3",
   "language": "python",
   "name": "python3"
  },
  "language_info": {
   "codemirror_mode": {
    "name": "ipython",
    "version": 3
   },
   "file_extension": ".py",
   "mimetype": "text/x-python",
   "name": "python",
   "nbconvert_exporter": "python",
   "pygments_lexer": "ipython3",
   "version": "3.8.8"
  }
 },
 "nbformat": 4,
 "nbformat_minor": 5
}
